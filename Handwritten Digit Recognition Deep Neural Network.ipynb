{
 "cells": [
  {
   "cell_type": "code",
   "execution_count": 1,
   "id": "08903170",
   "metadata": {
    "scrolled": false
   },
   "outputs": [
    {
     "name": "stdout",
     "output_type": "stream",
     "text": [
      "Epoch 1/3\n",
      "1875/1875 [==============================] - 5s 2ms/step - loss: 0.2667 - accuracy: 0.9219\n",
      "Epoch 2/3\n",
      "1875/1875 [==============================] - 5s 2ms/step - loss: 0.1075 - accuracy: 0.9664\n",
      "Epoch 3/3\n",
      "1875/1875 [==============================] - 4s 2ms/step - loss: 0.0733 - accuracy: 0.9769\n"
     ]
    },
    {
     "data": {
      "text/plain": [
       "<keras.callbacks.History at 0x15138abe0>"
      ]
     },
     "execution_count": 1,
     "metadata": {},
     "output_type": "execute_result"
    }
   ],
   "source": [
    "# Import Tensorflow, Numpy, MatPlot\n",
    "import tensorflow as tf\n",
    "import numpy as np\n",
    "import matplotlib.pyplot as plt\n",
    "\n",
    "#Import data\n",
    "mnist = tf.keras.datasets.mnist\n",
    "\n",
    "# Load working data\n",
    "(x_train, y_train), (x_test, y_test) = mnist.load_data()\n",
    "\n",
    "# processing data\n",
    "x_train = tf.keras.utils.normalize(x_train, axis=1)\n",
    "x_test = tf.keras.utils.normalize(x_train, axis=1)\n",
    "\n",
    "# Define Model\n",
    "model = tf.keras.models.Sequential()\n",
    "model.add(tf.keras.layers.Flatten())\n",
    "model.add(tf.keras.layers.Dense(128, activation =tf.nn.relu))\n",
    "model.add(tf.keras.layers.Dense(128, activation =tf.nn.relu))\n",
    "model.add(tf.keras.layers.Dense(10, activation =tf.nn.softmax))\n",
    "\n",
    "#Compile Model\n",
    "model.compile(optimizer='adam',\n",
    "             loss='sparse_categorical_crossentropy',\n",
    "             metrics=['accuracy'])\n",
    "\n",
    "# Train Model\n",
    "# model.fit(x_train, y_train, epochs=3)\n",
    "\n",
    "model.fit(np.array(x_train), np.array(y_train), epochs=3)"
   ]
  },
  {
   "cell_type": "code",
   "execution_count": null,
   "id": "e940257a",
   "metadata": {},
   "outputs": [],
   "source": [
    "pip install matplotlib"
   ]
  },
  {
   "cell_type": "code",
   "execution_count": 2,
   "id": "2293b269",
   "metadata": {
    "scrolled": true
   },
   "outputs": [
    {
     "data": {
      "text/plain": [
       "array([[8.71182206e-12, 1.01203879e-09, 4.19558999e-10, ...,\n",
       "        1.07127318e-09, 1.11955348e-10, 2.31132105e-07],\n",
       "       [9.99727905e-01, 1.09524443e-07, 1.95213550e-04, ...,\n",
       "        5.65376240e-06, 8.19738761e-06, 3.87981781e-05],\n",
       "       [4.30117719e-09, 1.57769726e-04, 3.41538270e-03, ...,\n",
       "        5.53045596e-04, 2.46734635e-06, 1.87043469e-07],\n",
       "       ...,\n",
       "       [5.25123456e-13, 7.71925319e-12, 5.57815133e-13, ...,\n",
       "        2.81914818e-13, 9.99289651e-10, 8.28894287e-09],\n",
       "       [1.11630595e-06, 5.27337324e-05, 3.31648351e-07, ...,\n",
       "        1.47515475e-08, 4.00118637e-07, 8.56922782e-08],\n",
       "       [1.61239007e-06, 8.13248425e-06, 1.85242534e-05, ...,\n",
       "        7.00087821e-06, 9.99882102e-01, 4.91949650e-05]], dtype=float32)"
      ]
     },
     "execution_count": 2,
     "metadata": {},
     "output_type": "execute_result"
    }
   ],
   "source": [
    "predictions = model.predict(x_test)\n",
    "\n",
    "predictions"
   ]
  },
  {
   "cell_type": "code",
   "execution_count": null,
   "id": "5b9f5761",
   "metadata": {},
   "outputs": [],
   "source": [
    "# Test model, change index for both prediction and test data"
   ]
  },
  {
   "cell_type": "code",
   "execution_count": 7,
   "id": "1c4f7ef7",
   "metadata": {},
   "outputs": [
    {
     "name": "stdout",
     "output_type": "stream",
     "text": [
      "2\n"
     ]
    },
    {
     "data": {
      "image/png": "[encoded data removed]",
      "text/plain": [
       "<Figure size 432x288 with 1 Axes>"
      ]
     },
     "metadata": {
      "needs_background": "light"
     },
     "output_type": "display_data"
    }
   ],
   "source": [
    "print(np.argmax(predictions[5]))\n",
    "\n",
    "plt.imshow(x_test[5])\n",
    "plt.show()"
   ]
  },
  {
   "cell_type": "code",
   "execution_count": null,
   "id": "84d2387b",
   "metadata": {},
   "outputs": [],
   "source": []
  }
 ],
 "metadata": {
  "kernelspec": {
   "display_name": "Python 3",
   "language": "python",
   "name": "python3"
  },
  "language_info": {
   "codemirror_mode": {
    "name": "ipython",
    "version": 3
   },
   "file_extension": ".py",
   "mimetype": "text/x-python",
   "name": "python",
   "nbconvert_exporter": "python",
   "pygments_lexer": "ipython3",
   "version": "3.9.5"
  }
 },
 "nbformat": 4,
 "nbformat_minor": 5
}
